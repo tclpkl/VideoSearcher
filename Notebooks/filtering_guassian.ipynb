{
 "cells": [
  {
   "cell_type": "code",
   "execution_count": 1,
   "id": "0ed2afdf-ae7e-414d-ab6d-951efc6e24ab",
   "metadata": {},
   "outputs": [
    {
     "name": "stdout",
     "output_type": "stream",
     "text": [
      "Collecting moviepy\n",
      "  Downloading moviepy-1.0.3.tar.gz (388 kB)\n",
      "\u001b[2K     \u001b[90m━━━━━━━━━━━━━━━━━━━━━━━━━━━━━━━━━━━━━━━\u001b[0m \u001b[32m388.3/388.3 kB\u001b[0m \u001b[31m4.4 MB/s\u001b[0m eta \u001b[36m0:00:00\u001b[0m00:01\u001b[0m00:01\u001b[0m\n",
      "\u001b[?25h  Preparing metadata (setup.py) ... \u001b[?25ldone\n",
      "\u001b[?25hCollecting decorator<5.0,>=4.0.2\n",
      "  Downloading decorator-4.4.2-py2.py3-none-any.whl (9.2 kB)\n",
      "Requirement already satisfied: tqdm<5.0,>=4.11.2 in /Users/gukilkim_1/anaconda3/lib/python3.10/site-packages (from moviepy) (4.64.1)\n",
      "Requirement already satisfied: requests<3.0,>=2.8.1 in /Users/gukilkim_1/anaconda3/lib/python3.10/site-packages (from moviepy) (2.28.1)\n",
      "Collecting proglog<=1.0.0\n",
      "  Downloading proglog-0.1.10-py3-none-any.whl (6.1 kB)\n",
      "Requirement already satisfied: numpy>=1.17.3 in /Users/gukilkim_1/anaconda3/lib/python3.10/site-packages (from moviepy) (1.23.5)\n",
      "Requirement already satisfied: imageio<3.0,>=2.5 in /Users/gukilkim_1/anaconda3/lib/python3.10/site-packages (from moviepy) (2.26.0)\n",
      "Collecting imageio_ffmpeg>=0.2.0\n",
      "  Downloading imageio_ffmpeg-0.4.9-py3-none-macosx_10_9_intel.macosx_10_9_x86_64.macosx_10_10_intel.macosx_10_10_x86_64.whl (22.5 MB)\n",
      "\u001b[2K     \u001b[90m━━━━━━━━━━━━━━━━━━━━━━━━━━━━━━━━━━━━━━━━\u001b[0m \u001b[32m22.5/22.5 MB\u001b[0m \u001b[31m20.4 MB/s\u001b[0m eta \u001b[36m0:00:00\u001b[0m00:01\u001b[0m00:01\u001b[0m\n",
      "\u001b[?25hRequirement already satisfied: pillow>=8.3.2 in /Users/gukilkim_1/anaconda3/lib/python3.10/site-packages (from imageio<3.0,>=2.5->moviepy) (9.4.0)\n",
      "Requirement already satisfied: setuptools in /Users/gukilkim_1/anaconda3/lib/python3.10/site-packages (from imageio_ffmpeg>=0.2.0->moviepy) (65.6.3)\n",
      "Requirement already satisfied: charset-normalizer<3,>=2 in /Users/gukilkim_1/anaconda3/lib/python3.10/site-packages (from requests<3.0,>=2.8.1->moviepy) (2.0.4)\n",
      "Requirement already satisfied: certifi>=2017.4.17 in /Users/gukilkim_1/anaconda3/lib/python3.10/site-packages (from requests<3.0,>=2.8.1->moviepy) (2022.12.7)\n",
      "Requirement already satisfied: idna<4,>=2.5 in /Users/gukilkim_1/anaconda3/lib/python3.10/site-packages (from requests<3.0,>=2.8.1->moviepy) (3.4)\n",
      "Requirement already satisfied: urllib3<1.27,>=1.21.1 in /Users/gukilkim_1/anaconda3/lib/python3.10/site-packages (from requests<3.0,>=2.8.1->moviepy) (1.26.14)\n",
      "Building wheels for collected packages: moviepy\n",
      "  Building wheel for moviepy (setup.py) ... \u001b[?25ldone\n",
      "\u001b[?25h  Created wheel for moviepy: filename=moviepy-1.0.3-py3-none-any.whl size=110727 sha256=8ad26efc76e0a1f6bd05645ec6413c8aa96e9ce4a4906c9587ff69f6f9c7f37c\n",
      "  Stored in directory: /Users/gukilkim_1/Library/Caches/pip/wheels/05/c3/60/ff37aa492e097b78c495e049d4ec5dbd5be98bd9b36eb1f0b1\n",
      "Successfully built moviepy\n",
      "Installing collected packages: proglog, imageio_ffmpeg, decorator, moviepy\n",
      "  Attempting uninstall: decorator\n",
      "    Found existing installation: decorator 5.1.1\n",
      "    Uninstalling decorator-5.1.1:\n",
      "      Successfully uninstalled decorator-5.1.1\n",
      "Successfully installed decorator-4.4.2 imageio_ffmpeg-0.4.9 moviepy-1.0.3 proglog-0.1.10\n",
      "Note: you may need to restart the kernel to use updated packages.\n"
     ]
    }
   ],
   "source": [
    "pip install moviepy"
   ]
  },
  {
   "cell_type": "raw",
   "id": "30cb2809-8897-4a3e-9c4f-ac40f6717dd7",
   "metadata": {},
   "source": [
    "# Input video path\n",
    "input_video_path = \"./data/Videos/video1.mp4\"\n",
    "\n",
    "# Output video path\n",
    "output_video_path = \"./data/Filtered/Test_video1.mp4\""
   ]
  },
  {
   "cell_type": "code",
   "execution_count": 4,
   "id": "ab84a925-2ee7-469f-b3c9-182749bf5432",
   "metadata": {},
   "outputs": [
    {
     "name": "stdout",
     "output_type": "stream",
     "text": [
      "Requirement already satisfied: moviepy in /Users/gukilkim_1/anaconda3/lib/python3.10/site-packages (1.0.3)\n",
      "Requirement already satisfied: imageio-ffmpeg>=0.2.0 in /Users/gukilkim_1/anaconda3/lib/python3.10/site-packages (from moviepy) (0.4.9)\n",
      "Requirement already satisfied: numpy>=1.17.3 in /Users/gukilkim_1/anaconda3/lib/python3.10/site-packages (from moviepy) (1.23.5)\n",
      "Requirement already satisfied: proglog<=1.0.0 in /Users/gukilkim_1/anaconda3/lib/python3.10/site-packages (from moviepy) (0.1.10)\n",
      "Requirement already satisfied: tqdm<5.0,>=4.11.2 in /Users/gukilkim_1/anaconda3/lib/python3.10/site-packages (from moviepy) (4.64.1)\n",
      "Requirement already satisfied: imageio<3.0,>=2.5 in /Users/gukilkim_1/anaconda3/lib/python3.10/site-packages (from moviepy) (2.26.0)\n",
      "Requirement already satisfied: decorator<5.0,>=4.0.2 in /Users/gukilkim_1/anaconda3/lib/python3.10/site-packages (from moviepy) (4.4.2)\n",
      "Requirement already satisfied: requests<3.0,>=2.8.1 in /Users/gukilkim_1/anaconda3/lib/python3.10/site-packages (from moviepy) (2.28.1)\n",
      "Requirement already satisfied: pillow>=8.3.2 in /Users/gukilkim_1/anaconda3/lib/python3.10/site-packages (from imageio<3.0,>=2.5->moviepy) (9.4.0)\n",
      "Requirement already satisfied: setuptools in /Users/gukilkim_1/anaconda3/lib/python3.10/site-packages (from imageio-ffmpeg>=0.2.0->moviepy) (65.6.3)\n",
      "Requirement already satisfied: charset-normalizer<3,>=2 in /Users/gukilkim_1/anaconda3/lib/python3.10/site-packages (from requests<3.0,>=2.8.1->moviepy) (2.0.4)\n",
      "Requirement already satisfied: idna<4,>=2.5 in /Users/gukilkim_1/anaconda3/lib/python3.10/site-packages (from requests<3.0,>=2.8.1->moviepy) (3.4)\n",
      "Requirement already satisfied: certifi>=2017.4.17 in /Users/gukilkim_1/anaconda3/lib/python3.10/site-packages (from requests<3.0,>=2.8.1->moviepy) (2022.12.7)\n",
      "Requirement already satisfied: urllib3<1.27,>=1.21.1 in /Users/gukilkim_1/anaconda3/lib/python3.10/site-packages (from requests<3.0,>=2.8.1->moviepy) (1.26.14)\n",
      "Note: you may need to restart the kernel to use updated packages.\n"
     ]
    }
   ],
   "source": [
    "pip install --upgrade moviepy\n"
   ]
  },
  {
   "cell_type": "code",
   "execution_count": 18,
   "id": "45a2ee7e-150f-4c99-b34e-b399ba503e9d",
   "metadata": {},
   "outputs": [
    {
     "name": "stderr",
     "output_type": "stream",
     "text": [
      "chunk:  99%|█████████▉| 439/442 [03:18<00:00, 2025.94it/s, now=None]"
     ]
    },
    {
     "name": "stdout",
     "output_type": "stream",
     "text": [
      "Moviepy - Building video blurred_video2.mp4.\n",
      "MoviePy - Writing audio in blurred_video2TEMP_MPY_wvf_snd.mp4\n"
     ]
    },
    {
     "name": "stderr",
     "output_type": "stream",
     "text": [
      "\n",
      "chunk:   0%|          | 0/419 [00:00<?, ?it/s, now=None]\u001b[A\n",
      "chunk:  48%|████▊     | 201/419 [00:00<00:00, 2001.27it/s, now=None]\u001b[A\n",
      "chunk: 100%|█████████▉| 417/419 [00:00<00:00, 2094.09it/s, now=None]\u001b[A\n",
      "chunk:  99%|█████████▉| 439/442 [03:18<00:00, 2025.94it/s, now=None]\u001b[A"
     ]
    },
    {
     "name": "stdout",
     "output_type": "stream",
     "text": [
      "MoviePy - Done.\n",
      "Moviepy - Writing video blurred_video2.mp4\n",
      "\n"
     ]
    },
    {
     "name": "stderr",
     "output_type": "stream",
     "text": [
      "\n",
      "t:   0%|          | 0/570 [00:00<?, ?it/s, now=None]\u001b[A\n",
      "t:  11%|█         | 60/570 [00:00<00:00, 592.73it/s, now=None]\u001b[A\n",
      "t:  24%|██▎       | 134/570 [00:00<00:00, 677.32it/s, now=None]\u001b[A\n",
      "t:  36%|███▋      | 207/570 [00:00<00:00, 699.31it/s, now=None]\u001b[A\n",
      "t:  49%|████▉     | 279/570 [00:00<00:00, 706.99it/s, now=None]\u001b[A\n",
      "t:  64%|██████▎   | 362/570 [00:00<00:00, 749.42it/s, now=None]\u001b[A\n",
      "t:  77%|███████▋  | 438/570 [00:00<00:00, 751.80it/s, now=None]\u001b[A\n",
      "t:  90%|█████████ | 514/570 [00:00<00:00, 750.94it/s, now=None]\u001b[A\n",
      "chunk:  99%|█████████▉| 439/442 [03:19<00:00, 2025.94it/s, now=None]"
     ]
    },
    {
     "name": "stdout",
     "output_type": "stream",
     "text": [
      "Moviepy - Done !\n",
      "Moviepy - video ready blurred_video2.mp4\n"
     ]
    }
   ],
   "source": [
    "import cv2\n",
    "import numpy as np\n",
    "from moviepy.editor import VideoFileClip\n",
    "\n",
    "def apply_gaussian_blur_with_audio(input_video_path, output_video_path, clip_duration):\n",
    "    # Load the video clip\n",
    "    video_clip = VideoFileClip(input_video_path)\n",
    "    \n",
    "    # Trim the video clip to the desired duration (e.g., first 20 seconds)\n",
    "    video_clip = video_clip.subclip(0, clip_duration)\n",
    "\n",
    "    # Function to apply Gaussian blur to a single frame\n",
    "    def blur_frame(frame):\n",
    "        # Convert RGB to BGR for OpenCV processing\n",
    "        frame_bgr = cv2.cvtColor(frame, cv2.COLOR_RGB2BGR)\n",
    "        # Apply Gaussian blur\n",
    "        blurred_bgr = cv2.GaussianBlur(frame_bgr, (15, 15), 0)\n",
    "        # Convert back to RGB\n",
    "        blurred_rgb = cv2.cvtColor(blurred_bgr, cv2.COLOR_BGR2RGB)\n",
    "        return blurred_rgb\n",
    "\n",
    "    # Apply the blur to each frame\n",
    "    blurred_clip = video_clip.fl_image(blur_frame)\n",
    "    \n",
    "    # Explicitly trim the audio clip to match the video clip duration\n",
    "    audio_clip = video_clip.audio.subclip(0, clip_duration)\n",
    "    blurred_clip = blurred_clip.set_audio(audio_clip)\n",
    "\n",
    "    # Write the video file with audio\n",
    "    blurred_clip.write_videofile(output_video_path, codec='libx264', audio_codec='aac')\n",
    "\n",
    "    # Close all clips\n",
    "    video_clip.close()\n",
    "    blurred_clip.close()\n",
    "\n",
    "# Input video path\n",
    "input_video_path = \"./data/Cropped/trim_video2.mp4\"\n",
    "# Output video path\n",
    "output_video_path = \"blurred_video2.mp4\"\n",
    "# Duration to clip the video and audio (in seconds)\n",
    "clip_duration = 19\n",
    "\n",
    "# Apply Gaussian blur to the video while preserving and trimming the audio\n",
    "apply_gaussian_blur_with_audio(input_video_path, output_video_path, clip_duration)\n"
   ]
  },
  {
   "cell_type": "code",
   "execution_count": 38,
   "id": "ee89f196-0e38-48e8-bbe3-6920e92f16e5",
   "metadata": {},
   "outputs": [
    {
     "name": "stderr",
     "output_type": "stream",
     "text": [
      "                                                                    \n",
      "\u001b[A                                                                 \n",
      "\n",
      "chunk:  98%|█████████▊| 434/442 [31:08<00:00, 1867.02it/s, now=None]\n",
      "chunk:  99%|█████████▉| 439/442 [34:58<00:00, 2038.33it/s, now=None]\u001b[A\n",
      "\n",
      "                                                                    \u001b[A\u001b[A\n",
      "\u001b[A                                                                 \n",
      "\n",
      "chunk:  98%|█████████▊| 434/442 [31:08<00:00, 1867.02it/s, now=None]\n",
      "chunk:  99%|█████████▉| 439/442 [34:58<00:00, 2038.33it/s, now=None]\u001b[A\n",
      "\n",
      "chunk: 100%|█████████▉| 881/883 [17:21<00:00, 2577.39it/s, now=None]\u001b[A\u001b[A"
     ]
    },
    {
     "name": "stdout",
     "output_type": "stream",
     "text": [
      "Moviepy - Building video video11_filtered.mp4.\n",
      "MoviePy - Writing audio in video11_filteredTEMP_MPY_wvf_snd.mp4\n"
     ]
    },
    {
     "name": "stderr",
     "output_type": "stream",
     "text": [
      "\n",
      "\n",
      "\n",
      "chunk:   0%|          | 0/883 [00:00<?, ?it/s, now=None]\u001b[A\u001b[A\u001b[A\n",
      "\n",
      "\n",
      "chunk:  24%|██▍       | 212/883 [00:00<00:00, 2117.46it/s, now=None]\u001b[A\u001b[A\u001b[A\n",
      "\n",
      "\n",
      "chunk:  58%|█████▊    | 510/883 [00:00<00:00, 2593.80it/s, now=None]\u001b[A\u001b[A\u001b[A\n",
      "\n",
      "\n",
      "chunk:  89%|████████▊ | 782/883 [00:00<00:00, 2650.97it/s, now=None]\u001b[A\u001b[A\u001b[A\n",
      "\n",
      "\n",
      "                                                                    \u001b[A\u001b[A\u001b[A\n",
      "\u001b[A                                                                 \n",
      "\n",
      "chunk:  98%|█████████▊| 434/442 [31:09<00:00, 1867.02it/s, now=None]\n",
      "chunk:  99%|█████████▉| 439/442 [34:58<00:00, 2038.33it/s, now=None]\u001b[A\n",
      "\n",
      "                                                                    \u001b[A\u001b[A\n",
      "\u001b[A                                                                 \n",
      "\n",
      "chunk:  98%|█████████▊| 434/442 [31:09<00:00, 1867.02it/s, now=None]\n",
      "chunk:  99%|█████████▉| 439/442 [34:58<00:00, 2038.33it/s, now=None]\u001b[A\n",
      "\n",
      "chunk: 100%|█████████▉| 881/883 [17:21<00:00, 2577.39it/s, now=None]\u001b[A\u001b[A"
     ]
    },
    {
     "name": "stdout",
     "output_type": "stream",
     "text": [
      "MoviePy - Done.\n",
      "Moviepy - Writing video video11_filtered.mp4\n",
      "\n"
     ]
    },
    {
     "name": "stderr",
     "output_type": "stream",
     "text": [
      "\n",
      "\n",
      "\n",
      "t:   0%|          | 0/1200 [00:00<?, ?it/s, now=None]\u001b[A\u001b[A\u001b[A\n",
      "\n",
      "\n",
      "t:   5%|▌         | 61/1200 [00:00<00:01, 600.59it/s, now=None]\u001b[A\u001b[A\u001b[A\n",
      "\n",
      "\n",
      "t:  14%|█▍        | 173/1200 [00:00<00:01, 900.90it/s, now=None]\u001b[A\u001b[A\u001b[A\n",
      "\n",
      "\n",
      "t:  24%|██▍       | 290/1200 [00:00<00:00, 1021.41it/s, now=None]\u001b[A\u001b[A\u001b[A\n",
      "\n",
      "\n",
      "t:  33%|███▎      | 393/1200 [00:00<00:00, 948.03it/s, now=None] \u001b[A\u001b[A\u001b[A\n",
      "\n",
      "\n",
      "t:  41%|████      | 489/1200 [00:00<00:00, 923.07it/s, now=None]\u001b[A\u001b[A\u001b[A\n",
      "\n",
      "\n",
      "t:  48%|████▊     | 582/1200 [00:00<00:00, 909.69it/s, now=None]\u001b[A\u001b[A\u001b[A\n",
      "\n",
      "\n",
      "t:  57%|█████▋    | 681/1200 [00:00<00:00, 933.04it/s, now=None]\u001b[A\u001b[A\u001b[A\n",
      "\n",
      "\n",
      "t:  65%|██████▍   | 775/1200 [00:00<00:00, 821.37it/s, now=None]\u001b[A\u001b[A\u001b[A\n",
      "\n",
      "\n",
      "t:  72%|███████▏  | 861/1200 [00:00<00:00, 831.15it/s, now=None]\u001b[A\u001b[A\u001b[A\n",
      "\n",
      "\n",
      "t:  79%|███████▉  | 946/1200 [00:01<00:00, 833.86it/s, now=None]\u001b[A\u001b[A\u001b[A\n",
      "\n",
      "\n",
      "t:  86%|████████▌ | 1033/1200 [00:01<00:00, 843.86it/s, now=None]\u001b[A\u001b[A\u001b[A\n",
      "\n",
      "\n",
      "t:  94%|█████████▍| 1130/1200 [00:01<00:00, 880.32it/s, now=None]\u001b[A\u001b[A\u001b[A\n",
      "\n",
      "\n",
      "                                                                    \u001b[A\u001b[A\n",
      "\u001b[A                                                                 \n",
      "\n",
      "chunk:  98%|█████████▊| 434/442 [31:10<00:00, 1867.02it/s, now=None]\n",
      "chunk:  99%|█████████▉| 439/442 [35:00<00:00, 2038.33it/s, now=None]\u001b[A\n",
      "\n",
      "                                                                    \u001b[A\u001b[A\n",
      "\u001b[A                                                                 \n",
      "\n",
      "chunk:  98%|█████████▊| 434/442 [31:10<00:00, 1867.02it/s, now=None]\n",
      "chunk:  99%|█████████▉| 439/442 [35:00<00:00, 2038.33it/s, now=None]\u001b[A\n",
      "\n",
      "chunk: 100%|█████████▉| 881/883 [17:23<00:00, 2577.39it/s, now=None]\u001b[A\u001b[A"
     ]
    },
    {
     "name": "stdout",
     "output_type": "stream",
     "text": [
      "Moviepy - Done !\n",
      "Moviepy - video ready video11_filtered.mp4\n"
     ]
    }
   ],
   "source": [
    "import cv2\n",
    "import numpy as np\n",
    "from moviepy.editor import VideoFileClip\n",
    "\n",
    "def apply_gaussian_blur_with_audio_and_resize(input_video_path, output_video_path, clip_duration):\n",
    "    # Load the video clip\n",
    "    video_clip = VideoFileClip(input_video_path)\n",
    "    \n",
    "    # Trim the video clip to the desired duration (e.g., first 20 seconds)\n",
    "    video_clip = video_clip.subclip(0, clip_duration)\n",
    "\n",
    "    # Function to apply Gaussian blur to a single frame\n",
    "    def blur_frame(frame):\n",
    "        # Convert RGB to BGR for OpenCV processing\n",
    "        frame_bgr = cv2.cvtColor(frame, cv2.COLOR_RGB2BGR)\n",
    "        # Apply Gaussian blur\n",
    "        blurred_bgr = cv2.GaussianBlur(frame_bgr, (15, 15), 0)\n",
    "        # Convert back to RGB\n",
    "        blurred_rgb = cv2.cvtColor(blurred_bgr, cv2.COLOR_BGR2RGB)\n",
    "        return blurred_rgb\n",
    "\n",
    "    # Apply the blur to each frame\n",
    "    blurred_clip = video_clip.fl_image(blur_frame)\n",
    "    \n",
    "    resized_blurred_clip = blurred_clip.resize((176, 144))\n",
    "\n",
    "    # Explicitly trim the audio clip to match the video clip duration\n",
    "    audio_clip = video_clip.audio.subclip(0, clip_duration)\n",
    "    resized_blurred_clip = resized_blurred_clip.set_audio(audio_clip)\n",
    "\n",
    "    # Write the video file with audio\n",
    "    resized_blurred_clip.write_videofile(output_video_path, codec='libx264', audio_codec='aac')\n",
    "\n",
    "    # Close all clips\n",
    "    video_clip.close()\n",
    "    blurred_clip.close()\n",
    "    resized_blurred_clip.close()\n",
    "\n",
    "# Input video path\n",
    "input_video_path = \"./data/Cropped/trim_video11.mp4\"\n",
    "# Output video path\n",
    "output_video_path = \"video11_filtered.mp4\"\n",
    "# Duration to clip the video and audio (in seconds)\n",
    "clip_duration = 40\n",
    "\n",
    "# Apply Gaussian blur to the video, resize it, and preserve the audio\n",
    "apply_gaussian_blur_with_audio_and_resize(input_video_path, output_video_path, clip_duration)\n"
   ]
  },
  {
   "cell_type": "code",
   "execution_count": null,
   "id": "5e6b0a8c-f53c-4229-972a-c850122c38b3",
   "metadata": {},
   "outputs": [],
   "source": []
  }
 ],
 "metadata": {
  "kernelspec": {
   "display_name": "Python 3 (ipykernel)",
   "language": "python",
   "name": "python3"
  },
  "language_info": {
   "codemirror_mode": {
    "name": "ipython",
    "version": 3
   },
   "file_extension": ".py",
   "mimetype": "text/x-python",
   "name": "python",
   "nbconvert_exporter": "python",
   "pygments_lexer": "ipython3",
   "version": "3.10.9"
  }
 },
 "nbformat": 4,
 "nbformat_minor": 5
}
